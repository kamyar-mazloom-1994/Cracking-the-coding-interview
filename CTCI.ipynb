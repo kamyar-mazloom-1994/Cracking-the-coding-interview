{
 "cells": [
  {
   "cell_type": "code",
   "execution_count": 5,
   "metadata": {},
   "outputs": [
    {
     "data": {
      "text/plain": [
       "True"
      ]
     },
     "execution_count": 5,
     "metadata": {},
     "output_type": "execute_result"
    }
   ],
   "source": [
    "# 1.1 is Unique\n",
    "\n",
    "def uniqueCheck(string):\n",
    "  # assume ASCII character set\n",
    "  if len(string) >= 256:\n",
    "    return False\n",
    "  \n",
    "  hashmap = {}\n",
    "  for i in range(len(string)):\n",
    "    if string[i] in hashmap:\n",
    "      return False\n",
    "    hashmap[string[i]] = i\n",
    "  \n",
    "  return True\n",
    "\n",
    "uniqueCheck(\"asdfghjknbv!@#$%^\")"
   ]
  },
  {
   "cell_type": "code",
   "execution_count": 17,
   "metadata": {},
   "outputs": [
    {
     "data": {
      "text/plain": [
       "True"
      ]
     },
     "execution_count": 17,
     "metadata": {},
     "output_type": "execute_result"
    }
   ],
   "source": [
    "# 1.2 check permutation\n",
    "\n",
    "def checkPermutation(string1,string2):\n",
    "  #check size difference \n",
    "\n",
    "  if len(string1) != len(string2):\n",
    "    return False\n",
    "  \n",
    "  hashmap = {}\n",
    "  for i in range(len(string1)):\n",
    "    if string1[i] in hashmap: \n",
    "      hashmap[string1[i]] += 1\n",
    "    else: \n",
    "      hashmap[string1[i]] = 1\n",
    "\n",
    "  for j in range(len(string2)):\n",
    "    if (string2[j] in hashmap and hashmap[string2[j]] > 0): \n",
    "      hashmap[string2[j]] -= 1\n",
    "    else: \n",
    "      return False\n",
    "  return True\n",
    "\n",
    "\n",
    "checkPermutation(\"aabbc\",\"cbbaa\")"
   ]
  },
  {
   "cell_type": "code",
   "execution_count": 21,
   "metadata": {},
   "outputs": [
    {
     "data": {
      "text/plain": [
       "'young%20nino'"
      ]
     },
     "execution_count": 21,
     "metadata": {},
     "output_type": "execute_result"
    }
   ],
   "source": [
    "# 1.3 URLify\n",
    "\n",
    "def URLify(string,length):\n",
    "  return string[:length].replace(\" \",\"%20\")\n",
    "\n",
    "URLify(\"young nino  \",10)"
   ]
  },
  {
   "cell_type": "code",
   "execution_count": 27,
   "metadata": {},
   "outputs": [
    {
     "data": {
      "text/plain": [
       "True"
      ]
     },
     "execution_count": 27,
     "metadata": {},
     "output_type": "execute_result"
    }
   ],
   "source": [
    "# 1.4 palindrome permutation\n",
    "\n",
    "def PPChecker(string):\n",
    "  hashmap = {}\n",
    "  for i in range(len(string)):\n",
    "    if string[i] in hashmap:\n",
    "      if hashmap[string[i]] == 1:\n",
    "        hashmap[string[i]] -= 1\n",
    "      else: \n",
    "        hashmap[string[i]] += 1\n",
    "    else:\n",
    "      hashmap[string[i]] = 1\n",
    "  \n",
    "  hashSum = sum(hashmap.values())\n",
    "\n",
    "  if (len(string) % 2 == 0 and hashSum == 0):\n",
    "    return True\n",
    "  elif(len(string) % 2 == 1 and hashSum == 1):\n",
    "    return True\n",
    "  return False\n",
    "\n",
    "\n",
    "PPChecker(\"abcddba\")"
   ]
  },
  {
   "cell_type": "code",
   "execution_count": 32,
   "metadata": {},
   "outputs": [
    {
     "data": {
      "text/plain": [
       "True"
      ]
     },
     "execution_count": 32,
     "metadata": {},
     "output_type": "execute_result"
    }
   ],
   "source": [
    "# 1.5 One Away\n",
    "\n",
    "def one_away(s1,s2):\n",
    "\n",
    "  if len(s1) == len(s2):\n",
    "    return one_edit_replace(s1,s2)\n",
    "  if len(s1) + 1 == len(s2):\n",
    "    return one_edit_insert(s1,s2)\n",
    "  if len(s1) - 1 == len(s2):\n",
    "    return one_edit_insert(s2,s1)\n",
    "  return False\n",
    "\n",
    "def one_edit_replace(s1,s2):\n",
    "  edited = False\n",
    "  for c1,c2 in zip(s1,s2):\n",
    "    if c1 != c2:\n",
    "      if edited:\n",
    "        return False\n",
    "      edited = True\n",
    "    return True\n",
    "  \n",
    "def one_edit_insert(s1,s2):\n",
    "  edited = False\n",
    "  i,j = 0,0\n",
    "  while i < len(s1) and j < len(s2):\n",
    "    if s1[i] != s2[j]:\n",
    "      if edited:\n",
    "        return False\n",
    "      edited = True\n",
    "      j += 1\n",
    "    else: \n",
    "      i += 1\n",
    "      j += 1\n",
    "  return True\n",
    "\n",
    "\n",
    "      "
   ]
  },
  {
   "cell_type": "code",
   "execution_count": 61,
   "metadata": {},
   "outputs": [
    {
     "data": {
      "text/plain": [
       "'a1b13c2d2e1'"
      ]
     },
     "execution_count": 61,
     "metadata": {},
     "output_type": "execute_result"
    }
   ],
   "source": [
    "# 1.6 String Compression: \n",
    "\n",
    "def string_compression(s1):\n",
    "  s2 = \"\"\n",
    "  count = 1\n",
    "\n",
    "  for i in range(0,len(s1)-1):\n",
    "    if s1[i] == s1[i+1]:\n",
    "      i += 1\n",
    "      count += 1\n",
    "    else:\n",
    "      s2 += s1[i] + str(count)\n",
    "      count = 1\n",
    "  \n",
    "  s2 += s1[len(s1)-1] + str(count)\n",
    "\n",
    "  if len(s2) < len(s1):\n",
    "    return s2\n",
    "  return s1\n",
    "\n",
    "\n",
    "string_compression(\"abbbbbbbbbbbbbccdde\")"
   ]
  },
  {
   "cell_type": "code",
   "execution_count": null,
   "metadata": {},
   "outputs": [],
   "source": [
    "# 1.7 "
   ]
  },
  {
   "cell_type": "code",
   "execution_count": null,
   "metadata": {},
   "outputs": [],
   "source": [
    "# 1.8"
   ]
  },
  {
   "cell_type": "code",
   "execution_count": null,
   "metadata": {},
   "outputs": [],
   "source": [
    "# 1.9 string rotation\n",
    "\n",
    "def string_rotation(s1, s2):\n",
    "    if len(s1) == len(s2) != 0:\n",
    "        return s2 in s1 * 2\n",
    "    return False"
   ]
  },
  {
   "cell_type": "code",
   "execution_count": 1,
   "metadata": {},
   "outputs": [
    {
     "ename": "SyntaxError",
     "evalue": "incomplete input (1166631752.py, line 43)",
     "output_type": "error",
     "traceback": [
      "\u001b[0;36m  Cell \u001b[0;32mIn [1], line 43\u001b[0;36m\u001b[0m\n\u001b[0;31m    def add(self,value):\u001b[0m\n\u001b[0m                        ^\u001b[0m\n\u001b[0;31mSyntaxError\u001b[0m\u001b[0;31m:\u001b[0m incomplete input\n"
     ]
    }
   ],
   "source": [
    "# pylint: disable=bad-indentation\n",
    "# 2.0 linked list \n",
    "\n",
    "class LinkedListNode: \n",
    "  def __init__(self, value, next_node = None, prev_node = None):\n",
    "    self.value = value \n",
    "    self.next = next_node \n",
    "    self.prev = prev_node \n",
    "\n",
    "  def __str__(self):\n",
    "    return str(self.value)\n",
    "  \n",
    "class LinkedList: \n",
    "  def __init__(self, values = None):\n",
    "    self.head = None\n",
    "    self.tail = None\n",
    "    if values is not None: \n",
    "      self.add_multiple(values)\n",
    "\n",
    "  def __iter__(self):\n",
    "    current = self.head\n",
    "    while current: \n",
    "      yield current\n",
    "      current = current.next\n",
    "\n",
    "  def __str__(self):\n",
    "    values = [str(x) for x in self]\n",
    "    return \"->\".join(values)\n",
    "\n",
    "  def __len__(self):\n",
    "    result = 0\n",
    "    current = self.head\n",
    "\n",
    "    while current: \n",
    "      result += 1\n",
    "      current = current.next\n",
    "\n",
    "    return result    \n",
    "  \n",
    "  def values(self):\n",
    "    return [x.values for x in self]\n",
    "\n",
    "  def add(self,value):\n",
    "    if self.head is None: \n",
    "      self.head = self.tail = LinkedListNode(value)\n",
    "    else:\n",
    "      self.tail.next = LinkedListNode(value)\n",
    "      self.tail = self.tail.next\n",
    "    return self.tail\n",
    "  \n",
    "  def add_to_beginning(self,value):\n",
    "    if self.head is None:\n",
    "      self.head = self.tail = LinkedListNode(value)\n",
    "    else: \n",
    "      self.head = LinkedListNode(value)\n",
    "    return self.head\n",
    "  \n",
    "  def add_multiple(self,values):\n",
    "    for v in values:\n",
    "      self.add(v)"
   ]
  },
  {
   "cell_type": "code",
   "execution_count": 1,
   "metadata": {},
   "outputs": [
    {
     "ename": "AttributeError",
     "evalue": "'list' object has no attribute 'head'",
     "output_type": "error",
     "traceback": [
      "\u001b[0;31m---------------------------------------------------------------------------\u001b[0m",
      "\u001b[0;31mAttributeError\u001b[0m                            Traceback (most recent call last)",
      "Cell \u001b[0;32mIn [1], line 19\u001b[0m\n\u001b[1;32m     15\u001b[0m   ll\u001b[38;5;241m.\u001b[39mtail \u001b[38;5;241m=\u001b[39m previous \n\u001b[1;32m     16\u001b[0m   \u001b[38;5;28;01mreturn\u001b[39;00m ll \n\u001b[0;32m---> 19\u001b[0m \u001b[43mremove_dups\u001b[49m\u001b[43m(\u001b[49m\u001b[43m[\u001b[49m\u001b[38;5;241;43m1\u001b[39;49m\u001b[43m,\u001b[49m\u001b[43m \u001b[49m\u001b[38;5;241;43m1\u001b[39;49m\u001b[43m,\u001b[49m\u001b[43m \u001b[49m\u001b[38;5;241;43m1\u001b[39;49m\u001b[43m,\u001b[49m\u001b[43m \u001b[49m\u001b[38;5;241;43m1\u001b[39;49m\u001b[43m,\u001b[49m\u001b[43m \u001b[49m\u001b[38;5;241;43m1\u001b[39;49m\u001b[43m,\u001b[49m\u001b[43m \u001b[49m\u001b[38;5;241;43m1\u001b[39;49m\u001b[43m]\u001b[49m\u001b[43m)\u001b[49m\n",
      "Cell \u001b[0;32mIn [1], line 4\u001b[0m, in \u001b[0;36mremove_dups\u001b[0;34m(ll)\u001b[0m\n\u001b[1;32m      3\u001b[0m \u001b[38;5;28;01mdef\u001b[39;00m \u001b[38;5;21mremove_dups\u001b[39m(ll): \n\u001b[0;32m----> 4\u001b[0m   current \u001b[38;5;241m=\u001b[39m \u001b[43mll\u001b[49m\u001b[38;5;241;43m.\u001b[39;49m\u001b[43mhead\u001b[49m\n\u001b[1;32m      5\u001b[0m   previous \u001b[38;5;241m=\u001b[39m \u001b[38;5;28;01mNone\u001b[39;00m\n\u001b[1;32m      6\u001b[0m   seen \u001b[38;5;241m=\u001b[39m \u001b[38;5;28mset\u001b[39m()\n",
      "\u001b[0;31mAttributeError\u001b[0m: 'list' object has no attribute 'head'"
     ]
    }
   ],
   "source": [
    "# 2.1 Remove dups\n",
    "\n",
    "def remove_dups(ll): \n",
    "  current = ll.head\n",
    "  previous = None\n",
    "  seen = set()\n",
    "\n",
    "  while current: \n",
    "    if current.value in seen: \n",
    "      previous.next = current.next\n",
    "    else:\n",
    "      seen.add(current.value)\n",
    "      previous = current \n",
    "    current = current.next\n",
    "  ll.tail = previous \n",
    "  return ll \n",
    "\n",
    "\n",
    "remove_dups([1, 1, 1, 1, 1, 1])"
   ]
  }
 ],
 "metadata": {
  "kernelspec": {
   "display_name": "Python 3",
   "language": "python",
   "name": "python3"
  },
  "language_info": {
   "codemirror_mode": {
    "name": "ipython",
    "version": 3
   },
   "file_extension": ".py",
   "mimetype": "text/x-python",
   "name": "python",
   "nbconvert_exporter": "python",
   "pygments_lexer": "ipython3",
   "version": "3.10.6"
  }
 },
 "nbformat": 4,
 "nbformat_minor": 2
}
